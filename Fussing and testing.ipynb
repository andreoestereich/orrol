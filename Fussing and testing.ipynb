{
 "cells": [
  {
   "cell_type": "code",
   "execution_count": 42,
   "id": "39968a08-5bca-4c81-8350-850f5843f1af",
   "metadata": {},
   "outputs": [],
   "source": [
    "import pandas as pd\n",
    "import matplotlib.pyplot as plt\n",
    "import numpy as np"
   ]
  },
  {
   "cell_type": "code",
   "execution_count": 43,
   "id": "446bb1ce-d7dd-4abc-83df-6028d9335278",
   "metadata": {},
   "outputs": [],
   "source": [
    "lg_xml = pd.read_xml('region4-00101-02-21-legends.xml', xpath='./regions/*', encoding='CP437')\n",
    "lg_xml.set_index('id', inplace=True)"
   ]
  },
  {
   "cell_type": "code",
   "execution_count": 44,
   "id": "d150ea4b-fe1f-4567-bae1-78778f530848",
   "metadata": {},
   "outputs": [],
   "source": [
    "lgp_xml = pd.read_xml('region4-00101-02-21-legends_plus.xml', xpath='./regions/*', encoding='CP437')\n",
    "lgp_xml.set_index('id', inplace=True)"
   ]
  },
  {
   "cell_type": "code",
   "execution_count": 45,
   "id": "f4efcc6f-8fbe-48b0-b93d-fb8822dba288",
   "metadata": {},
   "outputs": [],
   "source": [
    "regions = lg_xml.join(lgp_xml)"
   ]
  },
  {
   "cell_type": "code",
   "execution_count": 46,
   "id": "c763d53f-53d9-4c06-bbb6-9e60fd31e787",
   "metadata": {},
   "outputs": [],
   "source": [
    "def getPoly(coorText):\n",
    "    coordinates = list()\n",
    "    for coord in coorText.split('|'):\n",
    "        if coord:\n",
    "            sp = coord.split(',')\n",
    "            coordinates.append((int(sp[0]),int(sp[1])))\n",
    "\n",
    "    return np.array(coordinates)\n"
   ]
  },
  {
   "cell_type": "code",
   "execution_count": 47,
   "id": "1bf7ae9a-6dad-4033-bf8d-ab9b21f7033e",
   "metadata": {},
   "outputs": [],
   "source": [
    "regions['coords'] = regions['coords'].apply(getPoly)"
   ]
  },
  {
   "cell_type": "code",
   "execution_count": 74,
   "id": "22fbb5f7-c12f-46c0-a642-73ab1f31491a",
   "metadata": {},
   "outputs": [],
   "source": [
    "oceanCoords = regions[regions['type']=='Ocean']['coords'][0].transpose()\n",
    "frameSize = (oceanCoords[0].min(), oceanCoords[0].max(), oceanCoords[1].min(), oceanCoords[1].max())"
   ]
  },
  {
   "cell_type": "code",
   "execution_count": 72,
   "id": "28c82500-e7aa-4006-b845-9402a72986dc",
   "metadata": {},
   "outputs": [],
   "source": [
    "#frame has form (xMin, xMax, yMin, yMax)\n",
    "def mkImg(coordintes, frame):\n",
    "    img = np.zeros((frame[1]-frame[0]+1,frame[3]-frame[2]+1))\n",
    "    for x, y in coordintes:\n",
    "        img[x-frame[0]][y-frame[2]] = 1\n",
    "    return img"
   ]
  },
  {
   "cell_type": "code",
   "execution_count": 73,
   "id": "0f2c8fa8-06db-4b14-9c7a-38f1fd113984",
   "metadata": {},
   "outputs": [],
   "source": [
    "regions['img'] = regions['coords'].apply(mkImg, args=(frameSize,))"
   ]
  },
  {
   "cell_type": "code",
   "execution_count": 25,
   "id": "217eb61f-5323-464b-957d-97d56a58daff",
   "metadata": {},
   "outputs": [],
   "source": [
    "biomeColor = {'Ocean':'blue', 'Hills':'gray', 'Grassland':'green', 'Wetland':'purple', 'Desert':'yellow', 'Mountains':'black',\n",
    "       'Forest':'darkgreen', 'Tundra':'steelblue', 'Glacier':'white'}"
   ]
  },
  {
   "cell_type": "code",
   "execution_count": 28,
   "id": "5630f868-22cc-4235-8cdf-65b76c2b2502",
   "metadata": {},
   "outputs": [],
   "source": [
    "regions['color'] = regions['type'].apply(lambda x: biomeColor[x])"
   ]
  },
  {
   "cell_type": "code",
   "execution_count": 29,
   "id": "5e151ee8-b233-47b6-9bcc-dd7e963f9c7e",
   "metadata": {},
   "outputs": [
    {
     "data": {
      "text/html": [
       "<div>\n",
       "<style scoped>\n",
       "    .dataframe tbody tr th:only-of-type {\n",
       "        vertical-align: middle;\n",
       "    }\n",
       "\n",
       "    .dataframe tbody tr th {\n",
       "        vertical-align: top;\n",
       "    }\n",
       "\n",
       "    .dataframe thead th {\n",
       "        text-align: right;\n",
       "    }\n",
       "</style>\n",
       "<table border=\"1\" class=\"dataframe\">\n",
       "  <thead>\n",
       "    <tr style=\"text-align: right;\">\n",
       "      <th></th>\n",
       "      <th>name</th>\n",
       "      <th>type</th>\n",
       "      <th>coords</th>\n",
       "      <th>evilness</th>\n",
       "      <th>force_id</th>\n",
       "      <th>color</th>\n",
       "    </tr>\n",
       "    <tr>\n",
       "      <th>id</th>\n",
       "      <th></th>\n",
       "      <th></th>\n",
       "      <th></th>\n",
       "      <th></th>\n",
       "      <th></th>\n",
       "      <th></th>\n",
       "    </tr>\n",
       "  </thead>\n",
       "  <tbody>\n",
       "    <tr>\n",
       "      <th>0</th>\n",
       "      <td>the gulf of bodies</td>\n",
       "      <td>Ocean</td>\n",
       "      <td>[(0, 0), (0, 1), (0, 2), (0, 3), (0, 4), (0, 5...</td>\n",
       "      <td>neutral</td>\n",
       "      <td>NaN</td>\n",
       "      <td>blue</td>\n",
       "    </tr>\n",
       "    <tr>\n",
       "      <th>1</th>\n",
       "      <td>the hill of ferocity</td>\n",
       "      <td>Hills</td>\n",
       "      <td>[(10, 1)]</td>\n",
       "      <td>neutral</td>\n",
       "      <td>NaN</td>\n",
       "      <td>gray</td>\n",
       "    </tr>\n",
       "    <tr>\n",
       "      <th>2</th>\n",
       "      <td>the fair plains</td>\n",
       "      <td>Grassland</td>\n",
       "      <td>[(10, 2), (11, 2), (11, 3), (11, 4), (11, 5), ...</td>\n",
       "      <td>neutral</td>\n",
       "      <td>NaN</td>\n",
       "      <td>green</td>\n",
       "    </tr>\n",
       "    <tr>\n",
       "      <th>3</th>\n",
       "      <td>the violent swamp</td>\n",
       "      <td>Wetland</td>\n",
       "      <td>[(26, 2), (27, 1), (27, 2), (27, 3), (27, 4), ...</td>\n",
       "      <td>neutral</td>\n",
       "      <td>NaN</td>\n",
       "      <td>purple</td>\n",
       "    </tr>\n",
       "    <tr>\n",
       "      <th>4</th>\n",
       "      <td>the fierce hills</td>\n",
       "      <td>Hills</td>\n",
       "      <td>[(1, 6), (1, 8), (1, 10), (2, 6), (2, 7), (2, ...</td>\n",
       "      <td>neutral</td>\n",
       "      <td>NaN</td>\n",
       "      <td>gray</td>\n",
       "    </tr>\n",
       "  </tbody>\n",
       "</table>\n",
       "</div>"
      ],
      "text/plain": [
       "                    name       type  \\\n",
       "id                                    \n",
       "0     the gulf of bodies      Ocean   \n",
       "1   the hill of ferocity      Hills   \n",
       "2        the fair plains  Grassland   \n",
       "3      the violent swamp    Wetland   \n",
       "4       the fierce hills      Hills   \n",
       "\n",
       "                                               coords evilness  force_id  \\\n",
       "id                                                                         \n",
       "0   [(0, 0), (0, 1), (0, 2), (0, 3), (0, 4), (0, 5...  neutral       NaN   \n",
       "1                                           [(10, 1)]  neutral       NaN   \n",
       "2   [(10, 2), (11, 2), (11, 3), (11, 4), (11, 5), ...  neutral       NaN   \n",
       "3   [(26, 2), (27, 1), (27, 2), (27, 3), (27, 4), ...  neutral       NaN   \n",
       "4   [(1, 6), (1, 8), (1, 10), (2, 6), (2, 7), (2, ...  neutral       NaN   \n",
       "\n",
       "     color  \n",
       "id          \n",
       "0     blue  \n",
       "1     gray  \n",
       "2    green  \n",
       "3   purple  \n",
       "4     gray  "
      ]
     },
     "execution_count": 29,
     "metadata": {},
     "output_type": "execute_result"
    }
   ],
   "source": [
    "regions.head()"
   ]
  },
  {
   "cell_type": "code",
   "execution_count": 83,
   "id": "e5a3b66d-45b1-4415-9ba7-058dfc4f2a74",
   "metadata": {},
   "outputs": [
    {
     "data": {
      "image/png": "[encoded data removed]",
      "text/plain": [
       "<Figure size 640x480 with 1 Axes>"
      ]
     },
     "metadata": {},
     "output_type": "display_data"
    }
   ],
   "source": [
    "plt.imshow(regions[regions['type']=='Ocean']['img'][0])\n",
    "plt.show()\n",
    "    "
   ]
  },
  {
   "cell_type": "code",
   "execution_count": 37,
   "id": "c8a5b42e-4136-4ad6-8739-442e6cc96d71",
   "metadata": {},
   "outputs": [
    {
     "data": {
      "text/plain": [
       "array([ 0,  0,  0,  0,  0,  0,  0,  0,  0,  0,  0,  0,  0,  0,  0,  0,  0,\n",
       "        0,  0,  0,  0,  0,  0,  0,  0,  0,  0,  0,  0,  0,  0,  0,  0,  1,\n",
       "        1,  1,  1,  1,  1,  1,  1,  1,  1,  1,  1,  1,  1,  1,  1,  1,  1,\n",
       "        1,  1,  1,  1,  1,  1,  1,  1,  1,  1,  1,  2,  2,  2,  2,  2,  2,\n",
       "        2,  2,  2,  2,  2,  2,  2,  2,  2,  2,  2,  2,  2,  2,  2,  2,  2,\n",
       "        3,  3,  3,  3,  3,  3,  3,  3,  3,  3,  3,  3,  3,  3,  3,  3,  3,\n",
       "        3,  3,  4,  4,  4,  4,  4,  4,  4,  4,  4,  4,  4,  4,  4,  4,  4,\n",
       "        4,  4,  4,  5,  5,  5,  5,  5,  5,  5,  5,  5,  5,  5,  5,  5,  5,\n",
       "        5,  5,  6,  6,  6,  6,  6,  6,  6,  6,  6,  6,  6,  7,  7,  7,  7,\n",
       "        7,  7,  7,  7,  7,  8,  8,  8,  8,  8,  8,  8,  8,  9,  9,  9,  9,\n",
       "        9,  9,  9, 10, 10, 10, 10, 10, 11, 11, 11, 11, 11, 11, 12, 12, 12,\n",
       "       12, 12, 12, 13, 13, 13, 13, 13, 13, 14, 14, 14, 14, 14, 14, 15, 15,\n",
       "       15, 15, 16, 16, 16, 16, 17, 17, 17, 17, 17, 18, 18, 18, 18, 18, 19,\n",
       "       19, 19, 19, 19, 20, 20, 20, 21, 21, 21, 22, 22, 22, 22, 22, 22, 23,\n",
       "       23, 23, 23, 23, 24, 24, 24, 24, 24, 25, 25, 25, 25, 25, 26, 26, 26,\n",
       "       26, 26, 27, 27, 27, 27, 27, 27, 27, 27, 28, 28, 28, 28, 28, 28, 28,\n",
       "       28, 28, 28, 28, 29, 29, 29, 29, 29, 29, 29, 29, 29, 29, 29, 29, 29,\n",
       "       29, 29, 30, 30, 30, 30, 30, 30, 30, 30, 30, 30, 30, 30, 30, 30, 30,\n",
       "       30, 30, 30, 31, 31, 31, 31, 31, 31, 31, 31, 31, 31, 31, 31, 31, 31,\n",
       "       31, 31, 31, 31, 31, 31, 31, 31, 31, 31, 31, 31, 31, 31, 32, 32, 32,\n",
       "       32, 32, 32, 32, 32, 32, 32, 32, 32, 32, 32, 32, 32, 32, 32, 32, 32,\n",
       "       32, 32, 32, 32, 32, 32, 32, 32, 32, 32, 32, 32, 32])"
      ]
     },
     "execution_count": 37,
     "metadata": {},
     "output_type": "execute_result"
    }
   ],
   "source": [
    "np.transpose(regions['coords'][0])[0]"
   ]
  },
  {
   "cell_type": "code",
   "execution_count": 82,
   "id": "92930043-45c0-43cf-9efd-2f1fe95e5934",
   "metadata": {},
   "outputs": [
    {
     "data": {
      "text/plain": [
       "array([[1., 1., 1., ..., 1., 1., 1.],\n",
       "       [1., 1., 1., ..., 1., 1., 1.],\n",
       "       [1., 1., 1., ..., 1., 1., 1.],\n",
       "       ...,\n",
       "       [1., 1., 0., ..., 1., 1., 1.],\n",
       "       [1., 1., 1., ..., 1., 1., 1.],\n",
       "       [1., 1., 1., ..., 1., 1., 1.]])"
      ]
     },
     "execution_count": 82,
     "metadata": {},
     "output_type": "execute_result"
    }
   ],
   "source": []
  },
  {
   "cell_type": "code",
   "execution_count": null,
   "id": "981cb7c4-8d8d-4d79-b80a-6f0a66545b69",
   "metadata": {},
   "outputs": [],
   "source": []
  }
 ],
 "metadata": {
  "kernelspec": {
   "display_name": "Python 3 (ipykernel)",
   "language": "python",
   "name": "python3"
  },
  "language_info": {
   "codemirror_mode": {
    "name": "ipython",
    "version": 3
   },
   "file_extension": ".py",
   "mimetype": "text/x-python",
   "name": "python",
   "nbconvert_exporter": "python",
   "pygments_lexer": "ipython3",
   "version": "3.12.3"
  }
 },
 "nbformat": 4,
 "nbformat_minor": 5
}
