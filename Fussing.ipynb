{
 "cells": [
  {
   "cell_type": "code",
   "execution_count": 10,
   "id": "1f3b27e1-8925-455e-bc5b-924112e94cb1",
   "metadata": {},
   "outputs": [],
   "source": [
    "from drawer import *"
   ]
  },
  {
   "cell_type": "code",
   "execution_count": 11,
   "id": "069a25a7-5b93-4390-8dd3-7cf66e94d2c6",
   "metadata": {},
   "outputs": [],
   "source": [
    "regions = getRegions()"
   ]
  },
  {
   "cell_type": "code",
   "execution_count": 12,
   "id": "767b7cde-0464-4198-ac1d-32f7bee376de",
   "metadata": {},
   "outputs": [],
   "source": [
    "regions['color'] = regions['type'].apply(lambda x: biomeColor[x])"
   ]
  },
  {
   "cell_type": "code",
   "execution_count": 21,
   "id": "883302c6-d004-4917-ad55-4960e7cf836d",
   "metadata": {},
   "outputs": [
    {
     "data": {
      "text/plain": [
       "<Axes: >"
      ]
     },
     "execution_count": 21,
     "metadata": {},
     "output_type": "execute_result"
    },
    {
     "data": {
      "image/png": "[encoded data removed]",
      "text/plain": [
       "<Figure size 640x480 with 1 Axes>"
      ]
     },
     "metadata": {},
     "output_type": "display_data"
    }
   ],
   "source": [
    "regions.plot(color=regions['color'])#, labels=regions['type'])"
   ]
  },
  {
   "cell_type": "code",
   "execution_count": 4,
   "id": "bc52d21c-a731-41c8-b5bf-cb819fcc6480",
   "metadata": {},
   "outputs": [
    {
     "data": {
      "text/html": [
       "<div>\n",
       "<style scoped>\n",
       "    .dataframe tbody tr th:only-of-type {\n",
       "        vertical-align: middle;\n",
       "    }\n",
       "\n",
       "    .dataframe tbody tr th {\n",
       "        vertical-align: top;\n",
       "    }\n",
       "\n",
       "    .dataframe thead th {\n",
       "        text-align: right;\n",
       "    }\n",
       "</style>\n",
       "<table border=\"1\" class=\"dataframe\">\n",
       "  <thead>\n",
       "    <tr style=\"text-align: right;\">\n",
       "      <th></th>\n",
       "      <th>name</th>\n",
       "      <th>type</th>\n",
       "      <th>coords</th>\n",
       "      <th>evilness</th>\n",
       "      <th>force_id</th>\n",
       "      <th>geometry</th>\n",
       "    </tr>\n",
       "    <tr>\n",
       "      <th>id</th>\n",
       "      <th></th>\n",
       "      <th></th>\n",
       "      <th></th>\n",
       "      <th></th>\n",
       "      <th></th>\n",
       "      <th></th>\n",
       "    </tr>\n",
       "  </thead>\n",
       "  <tbody>\n",
       "    <tr>\n",
       "      <th>0</th>\n",
       "      <td>the gulf of bodies</td>\n",
       "      <td>Ocean</td>\n",
       "      <td>0,0|0,1|0,2|0,3|0,4|0,5|0,6|0,7|0,8|0,9|0,10|0...</td>\n",
       "      <td>neutral</td>\n",
       "      <td>NaN</td>\n",
       "      <td>POLYGON ((329.000 329.000, 329.000 0.000, 0.00...</td>\n",
       "    </tr>\n",
       "    <tr>\n",
       "      <th>1</th>\n",
       "      <td>the hill of ferocity</td>\n",
       "      <td>Hills</td>\n",
       "      <td>10,1|</td>\n",
       "      <td>neutral</td>\n",
       "      <td>NaN</td>\n",
       "      <td>POLYGON ((10.000 100.000, 10.000 109.000, 19.0...</td>\n",
       "    </tr>\n",
       "    <tr>\n",
       "      <th>2</th>\n",
       "      <td>the fair plains</td>\n",
       "      <td>Grassland</td>\n",
       "      <td>10,2|11,2|11,3|11,4|11,5|12,3|12,4|12,5|12,6|1...</td>\n",
       "      <td>neutral</td>\n",
       "      <td>NaN</td>\n",
       "      <td>POLYGON ((20.000 100.000, 20.000 119.000, 29.0...</td>\n",
       "    </tr>\n",
       "    <tr>\n",
       "      <th>3</th>\n",
       "      <td>the violent swamp</td>\n",
       "      <td>Wetland</td>\n",
       "      <td>26,2|27,1|27,2|27,3|27,4|28,1|28,2|28,3|28,4|2...</td>\n",
       "      <td>neutral</td>\n",
       "      <td>NaN</td>\n",
       "      <td>POLYGON ((20.000 260.000, 20.000 269.000, 19.0...</td>\n",
       "    </tr>\n",
       "    <tr>\n",
       "      <th>4</th>\n",
       "      <td>the fierce hills</td>\n",
       "      <td>Hills</td>\n",
       "      <td>1,6|1,8|1,10|2,6|2,7|2,8|2,9|2,10|3,5|3,7|3,8|...</td>\n",
       "      <td>neutral</td>\n",
       "      <td>NaN</td>\n",
       "      <td>POLYGON ((60.000 10.000, 60.000 29.000, 59.000...</td>\n",
       "    </tr>\n",
       "  </tbody>\n",
       "</table>\n",
       "</div>"
      ],
      "text/plain": [
       "                    name       type  \\\n",
       "id                                    \n",
       "0     the gulf of bodies      Ocean   \n",
       "1   the hill of ferocity      Hills   \n",
       "2        the fair plains  Grassland   \n",
       "3      the violent swamp    Wetland   \n",
       "4       the fierce hills      Hills   \n",
       "\n",
       "                                               coords evilness  force_id  \\\n",
       "id                                                                         \n",
       "0   0,0|0,1|0,2|0,3|0,4|0,5|0,6|0,7|0,8|0,9|0,10|0...  neutral       NaN   \n",
       "1                                               10,1|  neutral       NaN   \n",
       "2   10,2|11,2|11,3|11,4|11,5|12,3|12,4|12,5|12,6|1...  neutral       NaN   \n",
       "3   26,2|27,1|27,2|27,3|27,4|28,1|28,2|28,3|28,4|2...  neutral       NaN   \n",
       "4   1,6|1,8|1,10|2,6|2,7|2,8|2,9|2,10|3,5|3,7|3,8|...  neutral       NaN   \n",
       "\n",
       "                                             geometry  \n",
       "id                                                     \n",
       "0   POLYGON ((329.000 329.000, 329.000 0.000, 0.00...  \n",
       "1   POLYGON ((10.000 100.000, 10.000 109.000, 19.0...  \n",
       "2   POLYGON ((20.000 100.000, 20.000 119.000, 29.0...  \n",
       "3   POLYGON ((20.000 260.000, 20.000 269.000, 19.0...  \n",
       "4   POLYGON ((60.000 10.000, 60.000 29.000, 59.000...  "
      ]
     },
     "execution_count": 4,
     "metadata": {},
     "output_type": "execute_result"
    }
   ],
   "source": [
    "regions.head()"
   ]
  },
  {
   "cell_type": "code",
   "execution_count": null,
   "id": "837d27ea-0bc8-4a5f-a0f7-ec4c184666d3",
   "metadata": {},
   "outputs": [],
   "source": [
    "\n"
   ]
  }
 ],
 "metadata": {
  "kernelspec": {
   "display_name": "Python 3 (ipykernel)",
   "language": "python",
   "name": "python3"
  },
  "language_info": {
   "codemirror_mode": {
    "name": "ipython",
    "version": 3
   },
   "file_extension": ".py",
   "mimetype": "text/x-python",
   "name": "python",
   "nbconvert_exporter": "python",
   "pygments_lexer": "ipython3",
   "version": "3.12.3"
  }
 },
 "nbformat": 4,
 "nbformat_minor": 5
}
